{
  "cells": [
    {
      "cell_type": "markdown",
      "metadata": {
        "id": "5ykNZWbhetbP"
      },
      "source": [
        "# SI 670 Applied Machine Learning, Kaggle 1\n",
        "\n",
        "Team: ContextMatters\n",
        "\n",
        "Team member:\n",
        "- Meng Wang (unique name: meeewang)\n",
        "- Soobin Jeon (unique name:\n",
        "- Zhonghan Xie (unique name: jonasxie)"
      ]
    },
    {
      "cell_type": "code",
      "execution_count": 14,
      "metadata": {},
      "outputs": [],
      "source": [
        "import numpy as np\n",
        "import pandas as pd"
      ]
    },
    {
      "cell_type": "code",
      "execution_count": 15,
      "metadata": {
        "colab": {
          "base_uri": "https://localhost:8080/"
        },
        "id": "Xl0mDfQGhJu_",
        "outputId": "2514eaa6-434d-402d-fe3a-2e45862a2e1c"
      },
      "outputs": [],
      "source": [
        "# # run this cell if you are using Colab\n",
        "\n",
        "# !rm -rf fruit_data_with_colors.txt\n",
        "# !rm -rf adspy_shared_utilities.py\n",
        "# !rm -rf CommViolPredUnnormalizedData.txt\n",
        "\n",
        "# import io\n",
        "# import pandas as pd\n",
        "# import numpy as np\n",
        "# from google.colab import drive\n",
        "# drive.mount('/content/drive')\n",
        "\n"
      ]
    },
    {
      "cell_type": "code",
      "execution_count": 16,
      "metadata": {
        "colab": {
          "base_uri": "https://localhost:8080/"
        },
        "id": "1wVYTX8ChJnh",
        "outputId": "074fa5a6-ab22-4364-8b50-9486bcf2660c"
      },
      "outputs": [
        {
          "name": "stdout",
          "output_type": "stream",
          "text": [
            "                                                text  label  id\n",
            "0  White girls very rarely date Asian men. Even i...      1   0\n",
            "1  I am a 23 year old male Indian American male. ...      1   1\n",
            "2  Take three people, Persons A, B, and C. They l...      1   2\n",
            "3  (A) Work part-time in high school; Then go to ...      1   3\n",
            "4  When police introduce a new form of speed prev...      1   4\n"
          ]
        }
      ],
      "source": [
        "\n",
        "file_path = 'f-25-si-670-kaggle-1/si670_kaggle1_train.csv'\n",
        "df = pd.read_csv(file_path)\n",
        "\n",
        "print(df.head())\n"
      ]
    },
    {
      "cell_type": "code",
      "execution_count": 17,
      "metadata": {
        "colab": {
          "base_uri": "https://localhost:8080/"
        },
        "id": "gwG1r6nW0bJz",
        "outputId": "cf8b4e3f-7494-4085-82c7-a36c70921f56"
      },
      "outputs": [
        {
          "name": "stdout",
          "output_type": "stream",
          "text": [
            "(319071, 3)\n",
            "label\n",
            "0    225753\n",
            "1     93318\n",
            "Name: count, dtype: int64\n"
          ]
        }
      ],
      "source": [
        "# check df columns and rows\n",
        "print(df.shape)\n",
        "# check the label value count\n",
        "print(df['label'].value_counts())"
      ]
    },
    {
      "cell_type": "code",
      "execution_count": 18,
      "metadata": {
        "id": "mDU14nIiePp7"
      },
      "outputs": [],
      "source": [
        "#randomly choose 10000 label1 and 10000 label0\n",
        "df_label1 = df[df['label'] == 1].sample(n=10000, random_state=42)\n",
        "df_label0 = df[df['label'] == 0].sample(n=10000, random_state=42)\n",
        "df = pd.concat([df_label1, df_label0])"
      ]
    },
    {
      "cell_type": "code",
      "execution_count": 19,
      "metadata": {
        "id": "3na0WXfZrBQJ"
      },
      "outputs": [],
      "source": [
        "from sklearn.feature_extraction.text import CountVectorizer, TfidfVectorizer\n",
        "from sklearn.linear_model import LogisticRegression\n",
        "from sklearn.model_selection import StratifiedKFold, GridSearchCV\n",
        "from sklearn.metrics import classification_report\n",
        "from sklearn.pipeline import Pipeline, FeatureUnion\n",
        "\n",
        "\n"
      ]
    },
    {
      "cell_type": "code",
      "execution_count": 20,
      "metadata": {
        "id": "r-5X-ox12WzE"
      },
      "outputs": [],
      "source": [
        "# use first 1000 data as train\n",
        "X_train = df['text']\n",
        "y_train = df['label']\n"
      ]
    },
    {
      "cell_type": "code",
      "execution_count": 21,
      "metadata": {
        "colab": {
          "background_save": true,
          "base_uri": "https://localhost:8080/"
        },
        "id": "zosh-hQ-MHd8",
        "outputId": "ea9db513-1e51-434e-8350-e63eb0e4db10"
      },
      "outputs": [
        {
          "name": "stdout",
          "output_type": "stream",
          "text": [
            "Fitting 3 folds for each of 32 candidates, totalling 96 fits\n",
            "[CV] END logreg__C=0.01, logreg__penalty=l2, logreg__solver=lbfgs, vect=CountVectorizer(), vect__min_df=2, vect__ngram_range=(1, 1); total time=  10.2s\n",
            "[CV] END logreg__C=0.01, logreg__penalty=l2, logreg__solver=lbfgs, vect=CountVectorizer(), vect__min_df=2, vect__ngram_range=(1, 1); total time=   9.9s\n",
            "[CV] END logreg__C=0.01, logreg__penalty=l2, logreg__solver=lbfgs, vect=CountVectorizer(), vect__min_df=1, vect__ngram_range=(1, 1); total time=  11.7s\n",
            "[CV] END logreg__C=0.01, logreg__penalty=l2, logreg__solver=lbfgs, vect=CountVectorizer(), vect__min_df=1, vect__ngram_range=(1, 1); total time=  11.7s\n",
            "[CV] END logreg__C=0.01, logreg__penalty=l2, logreg__solver=lbfgs, vect=CountVectorizer(), vect__min_df=1, vect__ngram_range=(1, 1); total time=  12.0s\n",
            "[CV] END logreg__C=0.01, logreg__penalty=l2, logreg__solver=lbfgs, vect=TfidfVectorizer(), vect__min_df=1, vect__ngram_range=(1, 1); total time=   7.2s\n",
            "[CV] END logreg__C=0.01, logreg__penalty=l2, logreg__solver=lbfgs, vect=CountVectorizer(), vect__min_df=2, vect__ngram_range=(1, 1); total time=  10.6s\n",
            "[CV] END logreg__C=0.01, logreg__penalty=l2, logreg__solver=lbfgs, vect=TfidfVectorizer(), vect__min_df=1, vect__ngram_range=(1, 1); total time=  10.0s\n",
            "[CV] END logreg__C=0.01, logreg__penalty=l2, logreg__solver=lbfgs, vect=TfidfVectorizer(), vect__min_df=1, vect__ngram_range=(1, 1); total time=  10.1s\n",
            "[CV] END logreg__C=0.01, logreg__penalty=l2, logreg__solver=lbfgs, vect=CountVectorizer(), vect__min_df=2, vect__ngram_range=(1, 2); total time=  47.3s\n",
            "[CV] END logreg__C=0.01, logreg__penalty=l2, logreg__solver=lbfgs, vect=CountVectorizer(), vect__min_df=2, vect__ngram_range=(1, 2); total time=  49.9s\n",
            "[CV] END logreg__C=0.01, logreg__penalty=l2, logreg__solver=lbfgs, vect=CountVectorizer(), vect__min_df=2, vect__ngram_range=(1, 2); total time=  50.0s\n",
            "[CV] END logreg__C=0.01, logreg__penalty=l2, logreg__solver=lbfgs, vect=TfidfVectorizer(), vect__min_df=1, vect__ngram_range=(1, 2); total time=  40.3s\n",
            "[CV] END logreg__C=0.01, logreg__penalty=l2, logreg__solver=lbfgs, vect=TfidfVectorizer(), vect__min_df=2, vect__ngram_range=(1, 1); total time=   9.9s\n",
            "[CV] END logreg__C=0.01, logreg__penalty=l2, logreg__solver=lbfgs, vect=TfidfVectorizer(), vect__min_df=1, vect__ngram_range=(1, 2); total time=  39.7s\n",
            "[CV] END logreg__C=0.01, logreg__penalty=l2, logreg__solver=lbfgs, vect=TfidfVectorizer(), vect__min_df=2, vect__ngram_range=(1, 1); total time=   9.3s\n",
            "[CV] END logreg__C=0.01, logreg__penalty=l2, logreg__solver=lbfgs, vect=TfidfVectorizer(), vect__min_df=2, vect__ngram_range=(1, 1); total time=   9.2s\n",
            "[CV] END logreg__C=0.01, logreg__penalty=l2, logreg__solver=lbfgs, vect=TfidfVectorizer(), vect__min_df=1, vect__ngram_range=(1, 2); total time=  38.6s\n",
            "[CV] END logreg__C=0.01, logreg__penalty=l2, logreg__solver=lbfgs, vect=TfidfVectorizer(), vect__min_df=2, vect__ngram_range=(1, 2); total time=  30.1s\n",
            "[CV] END logreg__C=0.01, logreg__penalty=l2, logreg__solver=lbfgs, vect=TfidfVectorizer(), vect__min_df=2, vect__ngram_range=(1, 2); total time=  30.1s\n",
            "[CV] END logreg__C=0.1, logreg__penalty=l2, logreg__solver=lbfgs, vect=CountVectorizer(), vect__min_df=1, vect__ngram_range=(1, 1); total time=  21.5s\n",
            "[CV] END logreg__C=0.01, logreg__penalty=l2, logreg__solver=lbfgs, vect=TfidfVectorizer(), vect__min_df=2, vect__ngram_range=(1, 2); total time=  29.7s\n",
            "[CV] END logreg__C=0.01, logreg__penalty=l2, logreg__solver=lbfgs, vect=CountVectorizer(), vect__min_df=1, vect__ngram_range=(1, 2); total time= 1.8min\n",
            "[CV] END logreg__C=0.01, logreg__penalty=l2, logreg__solver=lbfgs, vect=CountVectorizer(), vect__min_df=1, vect__ngram_range=(1, 2); total time= 1.9min\n",
            "[CV] END logreg__C=0.01, logreg__penalty=l2, logreg__solver=lbfgs, vect=CountVectorizer(), vect__min_df=1, vect__ngram_range=(1, 2); total time= 1.9min\n",
            "[CV] END logreg__C=0.1, logreg__penalty=l2, logreg__solver=lbfgs, vect=CountVectorizer(), vect__min_df=1, vect__ngram_range=(1, 1); total time=  17.1s\n",
            "[CV] END logreg__C=0.1, logreg__penalty=l2, logreg__solver=lbfgs, vect=CountVectorizer(), vect__min_df=1, vect__ngram_range=(1, 1); total time=  15.4s\n",
            "[CV] END logreg__C=0.1, logreg__penalty=l2, logreg__solver=lbfgs, vect=CountVectorizer(), vect__min_df=2, vect__ngram_range=(1, 1); total time=  14.0s\n",
            "[CV] END logreg__C=0.1, logreg__penalty=l2, logreg__solver=lbfgs, vect=CountVectorizer(), vect__min_df=2, vect__ngram_range=(1, 1); total time=  14.2s\n",
            "[CV] END logreg__C=0.1, logreg__penalty=l2, logreg__solver=lbfgs, vect=CountVectorizer(), vect__min_df=2, vect__ngram_range=(1, 1); total time=  18.3s\n",
            "[CV] END logreg__C=0.1, logreg__penalty=l2, logreg__solver=lbfgs, vect=TfidfVectorizer(), vect__min_df=1, vect__ngram_range=(1, 1); total time=  12.6s\n",
            "[CV] END logreg__C=0.1, logreg__penalty=l2, logreg__solver=lbfgs, vect=TfidfVectorizer(), vect__min_df=1, vect__ngram_range=(1, 1); total time=  48.2s\n",
            "[CV] END logreg__C=0.1, logreg__penalty=l2, logreg__solver=lbfgs, vect=TfidfVectorizer(), vect__min_df=1, vect__ngram_range=(1, 1); total time=  51.4s\n",
            "[CV] END logreg__C=0.1, logreg__penalty=l2, logreg__solver=lbfgs, vect=CountVectorizer(), vect__min_df=2, vect__ngram_range=(1, 2); total time= 1.9min\n",
            "[CV] END logreg__C=0.1, logreg__penalty=l2, logreg__solver=lbfgs, vect=CountVectorizer(), vect__min_df=2, vect__ngram_range=(1, 2); total time= 2.0min\n",
            "[CV] END logreg__C=0.1, logreg__penalty=l2, logreg__solver=lbfgs, vect=CountVectorizer(), vect__min_df=2, vect__ngram_range=(1, 2); total time= 2.0min\n",
            "[CV] END logreg__C=0.1, logreg__penalty=l2, logreg__solver=lbfgs, vect=TfidfVectorizer(), vect__min_df=1, vect__ngram_range=(1, 2); total time=  56.6s\n",
            "[CV] END logreg__C=0.1, logreg__penalty=l2, logreg__solver=lbfgs, vect=TfidfVectorizer(), vect__min_df=1, vect__ngram_range=(1, 2); total time=  52.2s\n",
            "[CV] END logreg__C=0.1, logreg__penalty=l2, logreg__solver=lbfgs, vect=TfidfVectorizer(), vect__min_df=2, vect__ngram_range=(1, 1); total time=  10.3s\n",
            "[CV] END logreg__C=0.1, logreg__penalty=l2, logreg__solver=lbfgs, vect=TfidfVectorizer(), vect__min_df=2, vect__ngram_range=(1, 1); total time=   9.9s\n",
            "[CV] END logreg__C=0.1, logreg__penalty=l2, logreg__solver=lbfgs, vect=TfidfVectorizer(), vect__min_df=2, vect__ngram_range=(1, 1); total time=   9.1s\n",
            "[CV] END logreg__C=0.1, logreg__penalty=l2, logreg__solver=lbfgs, vect=TfidfVectorizer(), vect__min_df=2, vect__ngram_range=(1, 2); total time=  30.1s\n",
            "[CV] END logreg__C=0.1, logreg__penalty=l2, logreg__solver=lbfgs, vect=TfidfVectorizer(), vect__min_df=2, vect__ngram_range=(1, 2); total time=  30.5s\n",
            "[CV] END logreg__C=0.1, logreg__penalty=l2, logreg__solver=lbfgs, vect=TfidfVectorizer(), vect__min_df=1, vect__ngram_range=(1, 2); total time=  44.6s\n",
            "[CV] END logreg__C=0.1, logreg__penalty=l2, logreg__solver=lbfgs, vect=TfidfVectorizer(), vect__min_df=2, vect__ngram_range=(1, 2); total time=  30.0s\n",
            "[CV] END logreg__C=1, logreg__penalty=l2, logreg__solver=lbfgs, vect=CountVectorizer(), vect__min_df=1, vect__ngram_range=(1, 1); total time=  28.7s\n",
            "[CV] END logreg__C=1, logreg__penalty=l2, logreg__solver=lbfgs, vect=CountVectorizer(), vect__min_df=1, vect__ngram_range=(1, 1); total time=  55.6s\n",
            "[CV] END logreg__C=1, logreg__penalty=l2, logreg__solver=lbfgs, vect=CountVectorizer(), vect__min_df=1, vect__ngram_range=(1, 1); total time= 1.0min\n",
            "[CV] END logreg__C=1, logreg__penalty=l2, logreg__solver=lbfgs, vect=CountVectorizer(), vect__min_df=2, vect__ngram_range=(1, 1); total time=  31.2s\n",
            "[CV] END logreg__C=1, logreg__penalty=l2, logreg__solver=lbfgs, vect=CountVectorizer(), vect__min_df=2, vect__ngram_range=(1, 1); total time=  28.9s\n",
            "[CV] END logreg__C=1, logreg__penalty=l2, logreg__solver=lbfgs, vect=CountVectorizer(), vect__min_df=2, vect__ngram_range=(1, 1); total time=  29.6s\n",
            "[CV] END logreg__C=0.1, logreg__penalty=l2, logreg__solver=lbfgs, vect=CountVectorizer(), vect__min_df=1, vect__ngram_range=(1, 2); total time= 4.9min\n",
            "[CV] END logreg__C=0.1, logreg__penalty=l2, logreg__solver=lbfgs, vect=CountVectorizer(), vect__min_df=1, vect__ngram_range=(1, 2); total time= 5.0min\n",
            "[CV] END logreg__C=1, logreg__penalty=l2, logreg__solver=lbfgs, vect=TfidfVectorizer(), vect__min_df=1, vect__ngram_range=(1, 1); total time=  18.2s\n",
            "[CV] END logreg__C=0.1, logreg__penalty=l2, logreg__solver=lbfgs, vect=CountVectorizer(), vect__min_df=1, vect__ngram_range=(1, 2); total time= 5.4min\n",
            "[CV] END logreg__C=1, logreg__penalty=l2, logreg__solver=lbfgs, vect=TfidfVectorizer(), vect__min_df=1, vect__ngram_range=(1, 1); total time=  17.7s\n",
            "[CV] END logreg__C=1, logreg__penalty=l2, logreg__solver=lbfgs, vect=TfidfVectorizer(), vect__min_df=1, vect__ngram_range=(1, 1); total time=  18.7s\n",
            "[CV] END logreg__C=1, logreg__penalty=l2, logreg__solver=lbfgs, vect=CountVectorizer(), vect__min_df=2, vect__ngram_range=(1, 2); total time= 1.6min\n",
            "[CV] END logreg__C=1, logreg__penalty=l2, logreg__solver=lbfgs, vect=CountVectorizer(), vect__min_df=2, vect__ngram_range=(1, 2); total time= 1.7min\n",
            "[CV] END logreg__C=1, logreg__penalty=l2, logreg__solver=lbfgs, vect=CountVectorizer(), vect__min_df=2, vect__ngram_range=(1, 2); total time= 1.6min\n",
            "[CV] END logreg__C=1, logreg__penalty=l2, logreg__solver=lbfgs, vect=TfidfVectorizer(), vect__min_df=1, vect__ngram_range=(1, 2); total time=  52.2s\n",
            "[CV] END logreg__C=1, logreg__penalty=l2, logreg__solver=lbfgs, vect=TfidfVectorizer(), vect__min_df=1, vect__ngram_range=(1, 2); total time=  58.9s\n",
            "[CV] END logreg__C=1, logreg__penalty=l2, logreg__solver=lbfgs, vect=TfidfVectorizer(), vect__min_df=2, vect__ngram_range=(1, 1); total time=   9.3s\n",
            "[CV] END logreg__C=1, logreg__penalty=l2, logreg__solver=lbfgs, vect=TfidfVectorizer(), vect__min_df=2, vect__ngram_range=(1, 1); total time=  10.6s\n",
            "[CV] END logreg__C=1, logreg__penalty=l2, logreg__solver=lbfgs, vect=TfidfVectorizer(), vect__min_df=2, vect__ngram_range=(1, 1); total time=  10.7s\n",
            "[CV] END logreg__C=1, logreg__penalty=l2, logreg__solver=lbfgs, vect=TfidfVectorizer(), vect__min_df=1, vect__ngram_range=(1, 2); total time=  50.0s\n",
            "[CV] END logreg__C=1, logreg__penalty=l2, logreg__solver=lbfgs, vect=TfidfVectorizer(), vect__min_df=2, vect__ngram_range=(1, 2); total time=  36.7s\n",
            "[CV] END logreg__C=1, logreg__penalty=l2, logreg__solver=lbfgs, vect=TfidfVectorizer(), vect__min_df=2, vect__ngram_range=(1, 2); total time=  37.4s\n",
            "[CV] END logreg__C=1, logreg__penalty=l2, logreg__solver=lbfgs, vect=CountVectorizer(), vect__min_df=1, vect__ngram_range=(1, 2); total time= 4.4min\n",
            "[CV] END logreg__C=1, logreg__penalty=l2, logreg__solver=lbfgs, vect=TfidfVectorizer(), vect__min_df=2, vect__ngram_range=(1, 2); total time=  35.3s\n",
            "[CV] END logreg__C=10, logreg__penalty=l2, logreg__solver=lbfgs, vect=CountVectorizer(), vect__min_df=1, vect__ngram_range=(1, 1); total time=  34.1s\n",
            "[CV] END logreg__C=1, logreg__penalty=l2, logreg__solver=lbfgs, vect=CountVectorizer(), vect__min_df=1, vect__ngram_range=(1, 2); total time= 4.5min\n",
            "[CV] END logreg__C=1, logreg__penalty=l2, logreg__solver=lbfgs, vect=CountVectorizer(), vect__min_df=1, vect__ngram_range=(1, 2); total time= 4.6min\n",
            "[CV] END logreg__C=10, logreg__penalty=l2, logreg__solver=lbfgs, vect=CountVectorizer(), vect__min_df=1, vect__ngram_range=(1, 1); total time=  33.1s\n",
            "[CV] END logreg__C=10, logreg__penalty=l2, logreg__solver=lbfgs, vect=CountVectorizer(), vect__min_df=1, vect__ngram_range=(1, 1); total time=  31.2s\n",
            "[CV] END logreg__C=10, logreg__penalty=l2, logreg__solver=lbfgs, vect=CountVectorizer(), vect__min_df=2, vect__ngram_range=(1, 1); total time=  27.4s\n",
            "[CV] END logreg__C=10, logreg__penalty=l2, logreg__solver=lbfgs, vect=CountVectorizer(), vect__min_df=2, vect__ngram_range=(1, 1); total time=  27.4s\n",
            "[CV] END logreg__C=10, logreg__penalty=l2, logreg__solver=lbfgs, vect=CountVectorizer(), vect__min_df=2, vect__ngram_range=(1, 1); total time=  27.5s\n",
            "[CV] END logreg__C=10, logreg__penalty=l2, logreg__solver=lbfgs, vect=TfidfVectorizer(), vect__min_df=1, vect__ngram_range=(1, 1); total time=  12.5s\n",
            "[CV] END logreg__C=10, logreg__penalty=l2, logreg__solver=lbfgs, vect=TfidfVectorizer(), vect__min_df=1, vect__ngram_range=(1, 1); total time=  13.0s\n",
            "[CV] END logreg__C=10, logreg__penalty=l2, logreg__solver=lbfgs, vect=TfidfVectorizer(), vect__min_df=1, vect__ngram_range=(1, 1); total time=  17.3s\n",
            "[CV] END logreg__C=10, logreg__penalty=l2, logreg__solver=lbfgs, vect=CountVectorizer(), vect__min_df=2, vect__ngram_range=(1, 2); total time= 1.4min\n",
            "[CV] END logreg__C=10, logreg__penalty=l2, logreg__solver=lbfgs, vect=CountVectorizer(), vect__min_df=2, vect__ngram_range=(1, 2); total time= 1.3min\n",
            "[CV] END logreg__C=10, logreg__penalty=l2, logreg__solver=lbfgs, vect=CountVectorizer(), vect__min_df=2, vect__ngram_range=(1, 2); total time= 1.4min\n",
            "[CV] END logreg__C=10, logreg__penalty=l2, logreg__solver=lbfgs, vect=TfidfVectorizer(), vect__min_df=2, vect__ngram_range=(1, 1); total time=  10.0s\n",
            "[CV] END logreg__C=10, logreg__penalty=l2, logreg__solver=lbfgs, vect=TfidfVectorizer(), vect__min_df=2, vect__ngram_range=(1, 1); total time=  10.5s\n",
            "[CV] END logreg__C=10, logreg__penalty=l2, logreg__solver=lbfgs, vect=TfidfVectorizer(), vect__min_df=1, vect__ngram_range=(1, 2); total time= 1.2min\n",
            "[CV] END logreg__C=10, logreg__penalty=l2, logreg__solver=lbfgs, vect=TfidfVectorizer(), vect__min_df=2, vect__ngram_range=(1, 1); total time=   9.9s\n",
            "[CV] END logreg__C=10, logreg__penalty=l2, logreg__solver=lbfgs, vect=TfidfVectorizer(), vect__min_df=1, vect__ngram_range=(1, 2); total time= 1.1min\n",
            "[CV] END logreg__C=10, logreg__penalty=l2, logreg__solver=lbfgs, vect=TfidfVectorizer(), vect__min_df=2, vect__ngram_range=(1, 2); total time=  35.8s\n",
            "[CV] END logreg__C=10, logreg__penalty=l2, logreg__solver=lbfgs, vect=TfidfVectorizer(), vect__min_df=2, vect__ngram_range=(1, 2); total time=  33.9s\n",
            "[CV] END logreg__C=10, logreg__penalty=l2, logreg__solver=lbfgs, vect=TfidfVectorizer(), vect__min_df=2, vect__ngram_range=(1, 2); total time=  36.9s\n",
            "[CV] END logreg__C=10, logreg__penalty=l2, logreg__solver=lbfgs, vect=TfidfVectorizer(), vect__min_df=1, vect__ngram_range=(1, 2); total time= 1.1min\n",
            "[CV] END logreg__C=10, logreg__penalty=l2, logreg__solver=lbfgs, vect=CountVectorizer(), vect__min_df=1, vect__ngram_range=(1, 2); total time= 2.9min\n",
            "[CV] END logreg__C=10, logreg__penalty=l2, logreg__solver=lbfgs, vect=CountVectorizer(), vect__min_df=1, vect__ngram_range=(1, 2); total time= 2.9min\n",
            "[CV] END logreg__C=10, logreg__penalty=l2, logreg__solver=lbfgs, vect=CountVectorizer(), vect__min_df=1, vect__ngram_range=(1, 2); total time= 2.9min\n",
            "Best parameters: {'logreg__C': 10, 'logreg__penalty': 'l2', 'logreg__solver': 'lbfgs', 'vect': TfidfVectorizer(), 'vect__min_df': 2, 'vect__ngram_range': (1, 2)}\n",
            "Best CV f1 score: 0.7767285166447296\n"
          ]
        }
      ],
      "source": [
        "# Define pipeline\n",
        "pipe = Pipeline([\n",
        "    ('vect', TfidfVectorizer(analyzer='char_wb', ngram_range=(3,5))),   # placeholder, will be overridden by param_grid\n",
        "    ('logreg', LogisticRegression(max_iter=1000))  # increase max_iter to avoid convergence issues\n",
        "])\n",
        "\n",
        "# Define parameter grid\n",
        "param_grid = [\n",
        "    {\n",
        "        'vect': [CountVectorizer(), TfidfVectorizer()],\n",
        "        'vect__ngram_range': [(1, 1), (1, 2)],\n",
        "        'vect__min_df': [1, 2],\n",
        "        'logreg__C': [0.01, 0.1, 1, 10],\n",
        "        'logreg__penalty': ['l2'],\n",
        "        'logreg__solver': ['lbfgs']\n",
        "    }\n",
        "]\n",
        "\n",
        "cv = StratifiedKFold(n_splits=3, shuffle=True, random_state=42)\n",
        "\n",
        "# Initialize GridSearchCV\n",
        "grid = GridSearchCV(\n",
        "    estimator=pipe,\n",
        "    param_grid=param_grid,\n",
        "    cv=cv,\n",
        "    scoring=\"f1\",\n",
        "    n_jobs=-1,\n",
        "    verbose=2\n",
        ")\n",
        "\n",
        "# Fit\n",
        "grid.fit(X_train, y_train)\n",
        "\n",
        "# Best model and parameters\n",
        "print(\"Best parameters:\", grid.best_params_)\n",
        "print(\"Best CV f1 score:\", grid.best_score_)\n"
      ]
    },
    {
      "cell_type": "code",
      "execution_count": 22,
      "metadata": {
        "colab": {
          "background_save": true
        },
        "id": "SBPUuvcH2kYp"
      },
      "outputs": [],
      "source": [
        "\n",
        "# Apply to validation data\n",
        "\n",
        "val = pd.read_csv('f-25-si-670-kaggle-1/si670_kaggle1_validation.csv')\n",
        "X_val = val['text']\n",
        "y_val = val['label']\n",
        "\n",
        "from sklearn.metrics import classification_report, confusion_matrix\n",
        "\n",
        "# Use the best model found by GridSearchCV\n",
        "best_model = grid.best_estimator_\n",
        "\n",
        "# Predict on validation/test data\n",
        "y_val_pred = best_model.predict(X_val)\n",
        "\n"
      ]
    },
    {
      "cell_type": "code",
      "execution_count": 23,
      "metadata": {
        "colab": {
          "background_save": true
        },
        "id": "5SV2Z38o6KUe",
        "outputId": "48b9283b-a918-4ab4-e030-8a92d7d0d1a0"
      },
      "outputs": [
        {
          "name": "stdout",
          "output_type": "stream",
          "text": [
            "Validation Classification Report:\n",
            "               precision    recall  f1-score   support\n",
            "\n",
            "           0       0.67      0.73      0.70     27993\n",
            "           1       0.71      0.65      0.68     28799\n",
            "\n",
            "    accuracy                           0.69     56792\n",
            "   macro avg       0.69      0.69      0.69     56792\n",
            "weighted avg       0.69      0.69      0.69     56792\n",
            "\n",
            "Confusion Matrix:\n",
            " [[20368  7625]\n",
            " [10064 18735]]\n"
          ]
        }
      ],
      "source": [
        "# Evaluate\n",
        "\n",
        "print(\"Validation Classification Report:\\n\", classification_report(y_val, y_val_pred))\n",
        "print(\"Confusion Matrix:\\n\", confusion_matrix(y_val, y_val_pred))"
      ]
    },
    {
      "cell_type": "code",
      "execution_count": 24,
      "metadata": {
        "colab": {
          "background_save": true
        },
        "id": "77E39dMj7bov"
      },
      "outputs": [],
      "source": [
        "# Apply to test data\n",
        "test = pd.read_csv('f-25-si-670-kaggle-1/test.csv')\n",
        "X_test = test['text']\n",
        "\n",
        "# Get the best model\n",
        "best_model = grid.best_estimator_\n",
        "\n",
        "# Predict labels\n",
        "y_test_pred = best_model.predict(X_test)\n",
        "\n"
      ]
    },
    {
      "cell_type": "code",
      "execution_count": 25,
      "metadata": {
        "colab": {
          "background_save": true
        },
        "id": "KZfIvLF_8Rbc"
      },
      "outputs": [
        {
          "name": "stderr",
          "output_type": "stream",
          "text": [
            "Exception ignored in: <function ResourceTracker.__del__ at 0x104971800>\n",
            "Traceback (most recent call last):\n",
            "  File \"/opt/homebrew/Cellar/python@3.12/3.12.11/Frameworks/Python.framework/Versions/3.12/lib/python3.12/multiprocessing/resource_tracker.py\", line 77, in __del__\n",
            "  File \"/opt/homebrew/Cellar/python@3.12/3.12.11/Frameworks/Python.framework/Versions/3.12/lib/python3.12/multiprocessing/resource_tracker.py\", line 86, in _stop\n",
            "  File \"/opt/homebrew/Cellar/python@3.12/3.12.11/Frameworks/Python.framework/Versions/3.12/lib/python3.12/multiprocessing/resource_tracker.py\", line 111, in _stop_locked\n",
            "ChildProcessError: [Errno 10] No child processes\n",
            "Exception ignored in: <function ResourceTracker.__del__ at 0x104ca5800>\n",
            "Traceback (most recent call last):\n",
            "  File \"/opt/homebrew/Cellar/python@3.12/3.12.11/Frameworks/Python.framework/Versions/3.12/lib/python3.12/multiprocessing/resource_tracker.py\", line 77, in __del__\n",
            "  File \"/opt/homebrew/Cellar/python@3.12/3.12.11/Frameworks/Python.framework/Versions/3.12/lib/python3.12/multiprocessing/resource_tracker.py\", line 86, in _stop\n",
            "  File \"/opt/homebrew/Cellar/python@3.12/3.12.11/Frameworks/Python.framework/Versions/3.12/lib/python3.12/multiprocessing/resource_tracker.py\", line 111, in _stop_locked\n",
            "ChildProcessError: [Errno 10] No child processes\n",
            "Exception ignored in: <function ResourceTracker.__del__ at 0x104ced800>\n",
            "Traceback (most recent call last):\n",
            "  File \"/opt/homebrew/Cellar/python@3.12/3.12.11/Frameworks/Python.framework/Versions/3.12/lib/python3.12/multiprocessing/resource_tracker.py\", line 77, in __del__\n",
            "  File \"/opt/homebrew/Cellar/python@3.12/3.12.11/Frameworks/Python.framework/Versions/3.12/lib/python3.12/multiprocessing/resource_tracker.py\", line 86, in _stop\n",
            "  File \"/opt/homebrew/Cellar/python@3.12/3.12.11/Frameworks/Python.framework/Versions/3.12/lib/python3.12/multiprocessing/resource_tracker.py\", line 111, in _stop_locked\n",
            "ChildProcessError: [Errno 10] No child processes\n",
            "Exception ignored in: <function ResourceTracker.__del__ at 0x1055ad800>\n",
            "Traceback (most recent call last):\n",
            "  File \"/opt/homebrew/Cellar/python@3.12/3.12.11/Frameworks/Python.framework/Versions/3.12/lib/python3.12/multiprocessing/resource_tracker.py\", line 77, in __del__\n",
            "  File \"/opt/homebrew/Cellar/python@3.12/3.12.11/Frameworks/Python.framework/Versions/3.12/lib/python3.12/multiprocessing/resource_tracker.py\", line 86, in _stop\n",
            "  File \"/opt/homebrew/Cellar/python@3.12/3.12.11/Frameworks/Python.framework/Versions/3.12/lib/python3.12/multiprocessing/resource_tracker.py\", line 111, in _stop_locked\n",
            "ChildProcessError: [Errno 10] No child processes\n",
            "Exception ignored in: <function ResourceTracker.__del__ at 0x102e1d800>\n",
            "Traceback (most recent call last):\n",
            "  File \"/opt/homebrew/Cellar/python@3.12/3.12.11/Frameworks/Python.framework/Versions/3.12/lib/python3.12/multiprocessing/resource_tracker.py\", line 77, in __del__\n",
            "  File \"/opt/homebrew/Cellar/python@3.12/3.12.11/Frameworks/Python.framework/Versions/3.12/lib/python3.12/multiprocessing/resource_tracker.py\", line 86, in _stop\n",
            "  File \"/opt/homebrew/Cellar/python@3.12/3.12.11/Frameworks/Python.framework/Versions/3.12/lib/python3.12/multiprocessing/resource_tracker.py\", line 111, in _stop_locked\n",
            "ChildProcessError: [Errno 10] No child processes\n",
            "Exception ignored in: <function ResourceTracker.__del__ at 0x102d85800>\n",
            "Traceback (most recent call last):\n",
            "  File \"/opt/homebrew/Cellar/python@3.12/3.12.11/Frameworks/Python.framework/Versions/3.12/lib/python3.12/multiprocessing/resource_tracker.py\", line 77, in __del__\n",
            "  File \"/opt/homebrew/Cellar/python@3.12/3.12.11/Frameworks/Python.framework/Versions/3.12/lib/python3.12/multiprocessing/resource_tracker.py\", line 86, in _stop\n",
            "  File \"/opt/homebrew/Cellar/python@3.12/3.12.11/Frameworks/Python.framework/Versions/3.12/lib/python3.12/multiprocessing/resource_tracker.py\", line 111, in _stop_locked\n",
            "ChildProcessError: [Errno 10] No child processes\n",
            "Exception ignored in: <function ResourceTracker.__del__ at 0x106ccd800>\n",
            "Traceback (most recent call last):\n",
            "  File \"/opt/homebrew/Cellar/python@3.12/3.12.11/Frameworks/Python.framework/Versions/3.12/lib/python3.12/multiprocessing/resource_tracker.py\", line 77, in __del__\n",
            "  File \"/opt/homebrew/Cellar/python@3.12/3.12.11/Frameworks/Python.framework/Versions/3.12/lib/python3.12/multiprocessing/resource_tracker.py\", line 86, in _stop\n",
            "  File \"/opt/homebrew/Cellar/python@3.12/3.12.11/Frameworks/Python.framework/Versions/3.12/lib/python3.12/multiprocessing/resource_tracker.py\", line 111, in _stop_locked\n",
            "ChildProcessError: [Errno 10] No child processes\n",
            "Exception ignored in: <function ResourceTracker.__del__ at 0x104e99800>\n",
            "Traceback (most recent call last):\n",
            "  File \"/opt/homebrew/Cellar/python@3.12/3.12.11/Frameworks/Python.framework/Versions/3.12/lib/python3.12/multiprocessing/resource_tracker.py\", line 77, in __del__\n",
            "  File \"/opt/homebrew/Cellar/python@3.12/3.12.11/Frameworks/Python.framework/Versions/3.12/lib/python3.12/multiprocessing/resource_tracker.py\", line 86, in _stop\n",
            "  File \"/opt/homebrew/Cellar/python@3.12/3.12.11/Frameworks/Python.framework/Versions/3.12/lib/python3.12/multiprocessing/resource_tracker.py\", line 111, in _stop_locked\n",
            "ChildProcessError: [Errno 10] No child processes\n"
          ]
        }
      ],
      "source": [
        "\n",
        "# add labels to test dataframe\n",
        "new_test = test.copy()\n",
        "new_test['label'] = y_test_pred\n",
        "\n",
        "# only keep id and label\n",
        "new_test = new_test[['id', 'label']]\n",
        "\n",
        "# save to csv to same file\n",
        "new_test.to_csv('f-25-si-670-kaggle-1/submission.csv', index=False)"
      ]
    }
  ],
  "metadata": {
    "colab": {
      "provenance": []
    },
    "kernelspec": {
      "display_name": ".venv",
      "language": "python",
      "name": "python3"
    },
    "language_info": {
      "codemirror_mode": {
        "name": "ipython",
        "version": 3
      },
      "file_extension": ".py",
      "mimetype": "text/x-python",
      "name": "python",
      "nbconvert_exporter": "python",
      "pygments_lexer": "ipython3",
      "version": "3.12.11"
    }
  },
  "nbformat": 4,
  "nbformat_minor": 0
}
